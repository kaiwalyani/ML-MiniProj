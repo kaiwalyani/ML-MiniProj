{
  "nbformat": 4,
  "nbformat_minor": 0,
  "metadata": {
    "colab": {
      "provenance": [],
      "authorship_tag": "ABX9TyPV/ANrSIZD4IlGGQE+lswL",
      "include_colab_link": true
    },
    "kernelspec": {
      "name": "python3",
      "display_name": "Python 3"
    },
    "language_info": {
      "name": "python"
    }
  },
  "cells": [
    {
      "cell_type": "markdown",
      "metadata": {
        "id": "view-in-github",
        "colab_type": "text"
      },
      "source": [
        "<a href=\"https://colab.research.google.com/github/kaiwalyani/ML-MiniProj/blob/main/iris_flower_classification.ipynb\" target=\"_parent\"><img src=\"https://colab.research.google.com/assets/colab-badge.svg\" alt=\"Open In Colab\"/></a>"
      ]
    },
    {
      "cell_type": "code",
      "execution_count": null,
      "metadata": {
        "colab": {
          "base_uri": "https://localhost:8080/"
        },
        "id": "4OS6y1WFw9GK",
        "outputId": "b669ab92-648f-4e63-cb5f-1a584c9d7fe1"
      },
      "outputs": [
        {
          "output_type": "stream",
          "name": "stdout",
          "text": [
            "Requirement already satisfied: tensorflow in /usr/local/lib/python3.10/dist-packages (2.15.0)\n",
            "Requirement already satisfied: scikit-learn in /usr/local/lib/python3.10/dist-packages (1.2.2)\n",
            "Requirement already satisfied: absl-py>=1.0.0 in /usr/local/lib/python3.10/dist-packages (from tensorflow) (1.4.0)\n",
            "Requirement already satisfied: astunparse>=1.6.0 in /usr/local/lib/python3.10/dist-packages (from tensorflow) (1.6.3)\n",
            "Requirement already satisfied: flatbuffers>=23.5.26 in /usr/local/lib/python3.10/dist-packages (from tensorflow) (23.5.26)\n",
            "Requirement already satisfied: gast!=0.5.0,!=0.5.1,!=0.5.2,>=0.2.1 in /usr/local/lib/python3.10/dist-packages (from tensorflow) (0.5.4)\n",
            "Requirement already satisfied: google-pasta>=0.1.1 in /usr/local/lib/python3.10/dist-packages (from tensorflow) (0.2.0)\n",
            "Requirement already satisfied: h5py>=2.9.0 in /usr/local/lib/python3.10/dist-packages (from tensorflow) (3.9.0)\n",
            "Requirement already satisfied: libclang>=13.0.0 in /usr/local/lib/python3.10/dist-packages (from tensorflow) (16.0.6)\n",
            "Requirement already satisfied: ml-dtypes~=0.2.0 in /usr/local/lib/python3.10/dist-packages (from tensorflow) (0.2.0)\n",
            "Requirement already satisfied: numpy<2.0.0,>=1.23.5 in /usr/local/lib/python3.10/dist-packages (from tensorflow) (1.23.5)\n",
            "Requirement already satisfied: opt-einsum>=2.3.2 in /usr/local/lib/python3.10/dist-packages (from tensorflow) (3.3.0)\n",
            "Requirement already satisfied: packaging in /usr/local/lib/python3.10/dist-packages (from tensorflow) (23.2)\n",
            "Requirement already satisfied: protobuf!=4.21.0,!=4.21.1,!=4.21.2,!=4.21.3,!=4.21.4,!=4.21.5,<5.0.0dev,>=3.20.3 in /usr/local/lib/python3.10/dist-packages (from tensorflow) (3.20.3)\n",
            "Requirement already satisfied: setuptools in /usr/local/lib/python3.10/dist-packages (from tensorflow) (67.7.2)\n",
            "Requirement already satisfied: six>=1.12.0 in /usr/local/lib/python3.10/dist-packages (from tensorflow) (1.16.0)\n",
            "Requirement already satisfied: termcolor>=1.1.0 in /usr/local/lib/python3.10/dist-packages (from tensorflow) (2.4.0)\n",
            "Requirement already satisfied: typing-extensions>=3.6.6 in /usr/local/lib/python3.10/dist-packages (from tensorflow) (4.5.0)\n",
            "Requirement already satisfied: wrapt<1.15,>=1.11.0 in /usr/local/lib/python3.10/dist-packages (from tensorflow) (1.14.1)\n",
            "Requirement already satisfied: tensorflow-io-gcs-filesystem>=0.23.1 in /usr/local/lib/python3.10/dist-packages (from tensorflow) (0.35.0)\n",
            "Requirement already satisfied: grpcio<2.0,>=1.24.3 in /usr/local/lib/python3.10/dist-packages (from tensorflow) (1.60.0)\n",
            "Requirement already satisfied: tensorboard<2.16,>=2.15 in /usr/local/lib/python3.10/dist-packages (from tensorflow) (2.15.1)\n",
            "Requirement already satisfied: tensorflow-estimator<2.16,>=2.15.0 in /usr/local/lib/python3.10/dist-packages (from tensorflow) (2.15.0)\n",
            "Requirement already satisfied: keras<2.16,>=2.15.0 in /usr/local/lib/python3.10/dist-packages (from tensorflow) (2.15.0)\n",
            "Requirement already satisfied: scipy>=1.3.2 in /usr/local/lib/python3.10/dist-packages (from scikit-learn) (1.11.4)\n",
            "Requirement already satisfied: joblib>=1.1.1 in /usr/local/lib/python3.10/dist-packages (from scikit-learn) (1.3.2)\n",
            "Requirement already satisfied: threadpoolctl>=2.0.0 in /usr/local/lib/python3.10/dist-packages (from scikit-learn) (3.2.0)\n",
            "Requirement already satisfied: wheel<1.0,>=0.23.0 in /usr/local/lib/python3.10/dist-packages (from astunparse>=1.6.0->tensorflow) (0.42.0)\n",
            "Requirement already satisfied: google-auth<3,>=1.6.3 in /usr/local/lib/python3.10/dist-packages (from tensorboard<2.16,>=2.15->tensorflow) (2.17.3)\n",
            "Requirement already satisfied: google-auth-oauthlib<2,>=0.5 in /usr/local/lib/python3.10/dist-packages (from tensorboard<2.16,>=2.15->tensorflow) (1.2.0)\n",
            "Requirement already satisfied: markdown>=2.6.8 in /usr/local/lib/python3.10/dist-packages (from tensorboard<2.16,>=2.15->tensorflow) (3.5.2)\n",
            "Requirement already satisfied: requests<3,>=2.21.0 in /usr/local/lib/python3.10/dist-packages (from tensorboard<2.16,>=2.15->tensorflow) (2.31.0)\n",
            "Requirement already satisfied: tensorboard-data-server<0.8.0,>=0.7.0 in /usr/local/lib/python3.10/dist-packages (from tensorboard<2.16,>=2.15->tensorflow) (0.7.2)\n",
            "Requirement already satisfied: werkzeug>=1.0.1 in /usr/local/lib/python3.10/dist-packages (from tensorboard<2.16,>=2.15->tensorflow) (3.0.1)\n",
            "Requirement already satisfied: cachetools<6.0,>=2.0.0 in /usr/local/lib/python3.10/dist-packages (from google-auth<3,>=1.6.3->tensorboard<2.16,>=2.15->tensorflow) (5.3.2)\n",
            "Requirement already satisfied: pyasn1-modules>=0.2.1 in /usr/local/lib/python3.10/dist-packages (from google-auth<3,>=1.6.3->tensorboard<2.16,>=2.15->tensorflow) (0.3.0)\n",
            "Requirement already satisfied: rsa<5,>=3.1.4 in /usr/local/lib/python3.10/dist-packages (from google-auth<3,>=1.6.3->tensorboard<2.16,>=2.15->tensorflow) (4.9)\n",
            "Requirement already satisfied: requests-oauthlib>=0.7.0 in /usr/local/lib/python3.10/dist-packages (from google-auth-oauthlib<2,>=0.5->tensorboard<2.16,>=2.15->tensorflow) (1.3.1)\n",
            "Requirement already satisfied: charset-normalizer<4,>=2 in /usr/local/lib/python3.10/dist-packages (from requests<3,>=2.21.0->tensorboard<2.16,>=2.15->tensorflow) (3.3.2)\n",
            "Requirement already satisfied: idna<4,>=2.5 in /usr/local/lib/python3.10/dist-packages (from requests<3,>=2.21.0->tensorboard<2.16,>=2.15->tensorflow) (3.6)\n",
            "Requirement already satisfied: urllib3<3,>=1.21.1 in /usr/local/lib/python3.10/dist-packages (from requests<3,>=2.21.0->tensorboard<2.16,>=2.15->tensorflow) (2.0.7)\n",
            "Requirement already satisfied: certifi>=2017.4.17 in /usr/local/lib/python3.10/dist-packages (from requests<3,>=2.21.0->tensorboard<2.16,>=2.15->tensorflow) (2023.11.17)\n",
            "Requirement already satisfied: MarkupSafe>=2.1.1 in /usr/local/lib/python3.10/dist-packages (from werkzeug>=1.0.1->tensorboard<2.16,>=2.15->tensorflow) (2.1.3)\n",
            "Requirement already satisfied: pyasn1<0.6.0,>=0.4.6 in /usr/local/lib/python3.10/dist-packages (from pyasn1-modules>=0.2.1->google-auth<3,>=1.6.3->tensorboard<2.16,>=2.15->tensorflow) (0.5.1)\n",
            "Requirement already satisfied: oauthlib>=3.0.0 in /usr/local/lib/python3.10/dist-packages (from requests-oauthlib>=0.7.0->google-auth-oauthlib<2,>=0.5->tensorboard<2.16,>=2.15->tensorflow) (3.2.2)\n"
          ]
        }
      ],
      "source": [
        "pip install tensorflow scikit-learn"
      ]
    },
    {
      "cell_type": "code",
      "source": [
        "import numpy as np\n",
        "import tensorflow as tf\n",
        "from sklearn.model_selection import train_test_split\n",
        "from sklearn.preprocessing import StandardScaler\n",
        "from sklearn.datasets import load_iris\n",
        "from tensorflow.keras import Sequential\n",
        "from tensorflow.keras.layers import Dense"
      ],
      "metadata": {
        "id": "X3LfM_GaxHPC"
      },
      "execution_count": null,
      "outputs": []
    },
    {
      "cell_type": "code",
      "source": [
        "# Load Iris dataset\n",
        "iris = load_iris()\n",
        "X = iris.data\n",
        "y = iris.target\n",
        "\n",
        "# Split the data into training and testing sets\n",
        "X_train, X_test, y_train, y_test = train_test_split(X, y, test_size=0.2, random_state=42)\n"
      ],
      "metadata": {
        "id": "QxPt1iLNxPYO"
      },
      "execution_count": null,
      "outputs": []
    },
    {
      "cell_type": "code",
      "source": [
        "# Standardize the features\n",
        "scaler = StandardScaler()\n",
        "X_train = scaler.fit_transform(X_train)\n",
        "X_test = scaler.transform(X_test)\n"
      ],
      "metadata": {
        "id": "BkelujWWxSMu"
      },
      "execution_count": null,
      "outputs": []
    },
    {
      "cell_type": "code",
      "source": [
        "# Create a simple neural network model\n",
        "model = Sequential([\n",
        "    Dense(8, input_dim=4, activation='relu'),  # 4 input features in Iris dataset\n",
        "    Dense(3, activation='softmax')  # 3 classes for Iris species\n",
        "])\n",
        "\n",
        "# Compile the model\n",
        "model.compile(optimizer='adam', loss='sparse_categorical_crossentropy', metrics=['accuracy'])\n"
      ],
      "metadata": {
        "id": "M8PMQshsxVKz"
      },
      "execution_count": null,
      "outputs": []
    },
    {
      "cell_type": "code",
      "source": [
        "# Train the model\n",
        "model.fit(X_train, y_train, epochs=50, batch_size=8, validation_data=(X_test, y_test))\n"
      ],
      "metadata": {
        "colab": {
          "base_uri": "https://localhost:8080/"
        },
        "id": "Ks65DIJnxZoT",
        "outputId": "b4f5dd39-438b-44d9-e2c7-50eac46c487d"
      },
      "execution_count": null,
      "outputs": [
        {
          "output_type": "stream",
          "name": "stdout",
          "text": [
            "Epoch 1/50\n",
            "15/15 [==============================] - 2s 27ms/step - loss: 1.3957 - accuracy: 0.2500 - val_loss: 1.3428 - val_accuracy: 0.3333\n",
            "Epoch 2/50\n",
            "15/15 [==============================] - 0s 5ms/step - loss: 1.3154 - accuracy: 0.3333 - val_loss: 1.2641 - val_accuracy: 0.3333\n",
            "Epoch 3/50\n",
            "15/15 [==============================] - 0s 6ms/step - loss: 1.2463 - accuracy: 0.3333 - val_loss: 1.1977 - val_accuracy: 0.3333\n",
            "Epoch 4/50\n",
            "15/15 [==============================] - 0s 6ms/step - loss: 1.1872 - accuracy: 0.3417 - val_loss: 1.1390 - val_accuracy: 0.3333\n",
            "Epoch 5/50\n",
            "15/15 [==============================] - 0s 5ms/step - loss: 1.1336 - accuracy: 0.3500 - val_loss: 1.0858 - val_accuracy: 0.3667\n",
            "Epoch 6/50\n",
            "15/15 [==============================] - 0s 6ms/step - loss: 1.0858 - accuracy: 0.3667 - val_loss: 1.0365 - val_accuracy: 0.3667\n",
            "Epoch 7/50\n",
            "15/15 [==============================] - 0s 5ms/step - loss: 1.0412 - accuracy: 0.3750 - val_loss: 0.9903 - val_accuracy: 0.3667\n",
            "Epoch 8/50\n",
            "15/15 [==============================] - 0s 5ms/step - loss: 0.9992 - accuracy: 0.3750 - val_loss: 0.9481 - val_accuracy: 0.3667\n",
            "Epoch 9/50\n",
            "15/15 [==============================] - 0s 7ms/step - loss: 0.9607 - accuracy: 0.4000 - val_loss: 0.9059 - val_accuracy: 0.4000\n",
            "Epoch 10/50\n",
            "15/15 [==============================] - 0s 7ms/step - loss: 0.9222 - accuracy: 0.4417 - val_loss: 0.8670 - val_accuracy: 0.5667\n",
            "Epoch 11/50\n",
            "15/15 [==============================] - 0s 7ms/step - loss: 0.8861 - accuracy: 0.5500 - val_loss: 0.8308 - val_accuracy: 0.6333\n",
            "Epoch 12/50\n",
            "15/15 [==============================] - 0s 7ms/step - loss: 0.8513 - accuracy: 0.5667 - val_loss: 0.7969 - val_accuracy: 0.6667\n",
            "Epoch 13/50\n",
            "15/15 [==============================] - 0s 7ms/step - loss: 0.8182 - accuracy: 0.6583 - val_loss: 0.7642 - val_accuracy: 0.7333\n",
            "Epoch 14/50\n",
            "15/15 [==============================] - 0s 7ms/step - loss: 0.7867 - accuracy: 0.7333 - val_loss: 0.7324 - val_accuracy: 0.8667\n",
            "Epoch 15/50\n",
            "15/15 [==============================] - 0s 7ms/step - loss: 0.7576 - accuracy: 0.7583 - val_loss: 0.7028 - val_accuracy: 0.8667\n",
            "Epoch 16/50\n",
            "15/15 [==============================] - 0s 6ms/step - loss: 0.7302 - accuracy: 0.7667 - val_loss: 0.6753 - val_accuracy: 0.9000\n",
            "Epoch 17/50\n",
            "15/15 [==============================] - 0s 5ms/step - loss: 0.7052 - accuracy: 0.7750 - val_loss: 0.6500 - val_accuracy: 0.9333\n",
            "Epoch 18/50\n",
            "15/15 [==============================] - 0s 7ms/step - loss: 0.6815 - accuracy: 0.7917 - val_loss: 0.6251 - val_accuracy: 0.9333\n",
            "Epoch 19/50\n",
            "15/15 [==============================] - 0s 7ms/step - loss: 0.6592 - accuracy: 0.8000 - val_loss: 0.6032 - val_accuracy: 0.9333\n",
            "Epoch 20/50\n",
            "15/15 [==============================] - 0s 7ms/step - loss: 0.6393 - accuracy: 0.8083 - val_loss: 0.5816 - val_accuracy: 0.9333\n",
            "Epoch 21/50\n",
            "15/15 [==============================] - 0s 7ms/step - loss: 0.6197 - accuracy: 0.8083 - val_loss: 0.5616 - val_accuracy: 0.9333\n",
            "Epoch 22/50\n",
            "15/15 [==============================] - 0s 7ms/step - loss: 0.6019 - accuracy: 0.8083 - val_loss: 0.5423 - val_accuracy: 0.9333\n",
            "Epoch 23/50\n",
            "15/15 [==============================] - 0s 7ms/step - loss: 0.5844 - accuracy: 0.8167 - val_loss: 0.5239 - val_accuracy: 0.9333\n",
            "Epoch 24/50\n",
            "15/15 [==============================] - 0s 6ms/step - loss: 0.5680 - accuracy: 0.8083 - val_loss: 0.5071 - val_accuracy: 0.9333\n",
            "Epoch 25/50\n",
            "15/15 [==============================] - 0s 5ms/step - loss: 0.5529 - accuracy: 0.8083 - val_loss: 0.4903 - val_accuracy: 0.9333\n",
            "Epoch 26/50\n",
            "15/15 [==============================] - 0s 5ms/step - loss: 0.5378 - accuracy: 0.8083 - val_loss: 0.4746 - val_accuracy: 0.9333\n",
            "Epoch 27/50\n",
            "15/15 [==============================] - 0s 7ms/step - loss: 0.5242 - accuracy: 0.8167 - val_loss: 0.4591 - val_accuracy: 0.9333\n",
            "Epoch 28/50\n",
            "15/15 [==============================] - 0s 7ms/step - loss: 0.5109 - accuracy: 0.8167 - val_loss: 0.4449 - val_accuracy: 0.9333\n",
            "Epoch 29/50\n",
            "15/15 [==============================] - 0s 6ms/step - loss: 0.4975 - accuracy: 0.8333 - val_loss: 0.4312 - val_accuracy: 0.9333\n",
            "Epoch 30/50\n",
            "15/15 [==============================] - 0s 7ms/step - loss: 0.4849 - accuracy: 0.8333 - val_loss: 0.4179 - val_accuracy: 0.9333\n",
            "Epoch 31/50\n",
            "15/15 [==============================] - 0s 7ms/step - loss: 0.4730 - accuracy: 0.8333 - val_loss: 0.4051 - val_accuracy: 0.9333\n",
            "Epoch 32/50\n",
            "15/15 [==============================] - 0s 7ms/step - loss: 0.4611 - accuracy: 0.8333 - val_loss: 0.3929 - val_accuracy: 0.9333\n",
            "Epoch 33/50\n",
            "15/15 [==============================] - 0s 7ms/step - loss: 0.4502 - accuracy: 0.8333 - val_loss: 0.3808 - val_accuracy: 0.9333\n",
            "Epoch 34/50\n",
            "15/15 [==============================] - 0s 7ms/step - loss: 0.4396 - accuracy: 0.8333 - val_loss: 0.3687 - val_accuracy: 0.9333\n",
            "Epoch 35/50\n",
            "15/15 [==============================] - 0s 7ms/step - loss: 0.4291 - accuracy: 0.8333 - val_loss: 0.3579 - val_accuracy: 0.9333\n",
            "Epoch 36/50\n",
            "15/15 [==============================] - 0s 5ms/step - loss: 0.4189 - accuracy: 0.8417 - val_loss: 0.3468 - val_accuracy: 0.9333\n",
            "Epoch 37/50\n",
            "15/15 [==============================] - 0s 7ms/step - loss: 0.4093 - accuracy: 0.8417 - val_loss: 0.3365 - val_accuracy: 0.9333\n",
            "Epoch 38/50\n",
            "15/15 [==============================] - 0s 7ms/step - loss: 0.4000 - accuracy: 0.8417 - val_loss: 0.3260 - val_accuracy: 0.9333\n",
            "Epoch 39/50\n",
            "15/15 [==============================] - 0s 6ms/step - loss: 0.3907 - accuracy: 0.8500 - val_loss: 0.3174 - val_accuracy: 0.9333\n",
            "Epoch 40/50\n",
            "15/15 [==============================] - 0s 8ms/step - loss: 0.3822 - accuracy: 0.8583 - val_loss: 0.3082 - val_accuracy: 0.9333\n",
            "Epoch 41/50\n",
            "15/15 [==============================] - 0s 8ms/step - loss: 0.3735 - accuracy: 0.8583 - val_loss: 0.2993 - val_accuracy: 0.9333\n",
            "Epoch 42/50\n",
            "15/15 [==============================] - 0s 5ms/step - loss: 0.3653 - accuracy: 0.8667 - val_loss: 0.2912 - val_accuracy: 0.9333\n",
            "Epoch 43/50\n",
            "15/15 [==============================] - 0s 5ms/step - loss: 0.3573 - accuracy: 0.8750 - val_loss: 0.2833 - val_accuracy: 0.9333\n",
            "Epoch 44/50\n",
            "15/15 [==============================] - 0s 5ms/step - loss: 0.3505 - accuracy: 0.8667 - val_loss: 0.2759 - val_accuracy: 0.9333\n",
            "Epoch 45/50\n",
            "15/15 [==============================] - 0s 5ms/step - loss: 0.3427 - accuracy: 0.8667 - val_loss: 0.2686 - val_accuracy: 0.9333\n",
            "Epoch 46/50\n",
            "15/15 [==============================] - 0s 4ms/step - loss: 0.3353 - accuracy: 0.8917 - val_loss: 0.2618 - val_accuracy: 0.9333\n",
            "Epoch 47/50\n",
            "15/15 [==============================] - 0s 4ms/step - loss: 0.3287 - accuracy: 0.8917 - val_loss: 0.2555 - val_accuracy: 0.9333\n",
            "Epoch 48/50\n",
            "15/15 [==============================] - 0s 4ms/step - loss: 0.3222 - accuracy: 0.8917 - val_loss: 0.2492 - val_accuracy: 0.9333\n",
            "Epoch 49/50\n",
            "15/15 [==============================] - 0s 4ms/step - loss: 0.3163 - accuracy: 0.9000 - val_loss: 0.2441 - val_accuracy: 0.9333\n",
            "Epoch 50/50\n",
            "15/15 [==============================] - 0s 4ms/step - loss: 0.3102 - accuracy: 0.9083 - val_loss: 0.2385 - val_accuracy: 0.9333\n"
          ]
        },
        {
          "output_type": "execute_result",
          "data": {
            "text/plain": [
              "<keras.src.callbacks.History at 0x7a8115e5b880>"
            ]
          },
          "metadata": {},
          "execution_count": 6
        }
      ]
    },
    {
      "cell_type": "code",
      "source": [
        "# Evaluate the model on the test set\n",
        "loss, accuracy = model.evaluate(X_test, y_test)\n",
        "print(f\"Test Loss: {loss:.4f}, Test Accuracy: {accuracy:.4f}\")\n"
      ],
      "metadata": {
        "colab": {
          "base_uri": "https://localhost:8080/"
        },
        "id": "2zJ3_nlnxcdX",
        "outputId": "a5e8d882-7462-4a19-d17a-11d10b3dde91"
      },
      "execution_count": null,
      "outputs": [
        {
          "output_type": "stream",
          "name": "stdout",
          "text": [
            "1/1 [==============================] - 0s 42ms/step - loss: 0.2385 - accuracy: 0.9333\n",
            "Test Loss: 0.2385, Test Accuracy: 0.9333\n"
          ]
        }
      ]
    },
    {
      "cell_type": "code",
      "source": [
        "# Make predictions on new data\n",
        "new_data = np.array([[5.1, 3.5, 1.4, 0.2]])  # Replace with your own data\n",
        "scaled_new_data = scaler.transform(new_data)\n",
        "predictions = model.predict(scaled_new_data)\n",
        "predicted_class = np.argmax(predictions)\n",
        "\n",
        "print(f\"Predicted class: {predicted_class}, Probability: {predictions[0][predicted_class]:.4f}\")\n"
      ],
      "metadata": {
        "colab": {
          "base_uri": "https://localhost:8080/"
        },
        "id": "FPFmYZEFxhEi",
        "outputId": "ab77b8f2-1c21-4ee8-c692-170dedee3047"
      },
      "execution_count": null,
      "outputs": [
        {
          "output_type": "stream",
          "name": "stdout",
          "text": [
            "1/1 [==============================] - 0s 129ms/step\n",
            "Predicted class: 0, Probability: 0.9864\n"
          ]
        }
      ]
    },
    {
      "cell_type": "code",
      "source": [],
      "metadata": {
        "id": "bE_VMebKxjcU"
      },
      "execution_count": null,
      "outputs": []
    },
    {
      "cell_type": "code",
      "source": [],
      "metadata": {
        "id": "-y5B7mbCxzVH"
      },
      "execution_count": null,
      "outputs": []
    }
  ]
}